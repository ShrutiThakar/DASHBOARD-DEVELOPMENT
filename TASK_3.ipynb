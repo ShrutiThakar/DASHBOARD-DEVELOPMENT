{
  "nbformat": 4,
  "nbformat_minor": 0,
  "metadata": {
    "colab": {
      "provenance": [],
      "authorship_tag": "ABX9TyP2Lt2gdv9vmCqOhMlXCfsS",
      "include_colab_link": true
    },
    "kernelspec": {
      "name": "python3",
      "display_name": "Python 3"
    },
    "language_info": {
      "name": "python"
    }
  },
  "cells": [
    {
      "cell_type": "markdown",
      "metadata": {
        "id": "view-in-github",
        "colab_type": "text"
      },
      "source": [
        "<a href=\"https://colab.research.google.com/github/ShrutiThakar/DASHBOARD-DEVELOPMENT/blob/main/TASK_3.ipynb\" target=\"_parent\"><img src=\"https://colab.research.google.com/assets/colab-badge.svg\" alt=\"Open In Colab\"/></a>"
      ]
    },
    {
      "cell_type": "code",
      "execution_count": null,
      "metadata": {
        "colab": {
          "base_uri": "https://localhost:8080/",
          "height": 723
        },
        "id": "NMmmi6BDzJAw",
        "outputId": "c7472e72-dcaf-4162-a1b2-0d137fb94fc8"
      },
      "outputs": [
        {
          "output_type": "stream",
          "name": "stdout",
          "text": [
            "\u001b[?25l   \u001b[90m━━━━━━━━━━━━━━━━━━━━━━━━━━━━━━━━━━━━━━━━\u001b[0m \u001b[32m0.0/7.9 MB\u001b[0m \u001b[31m?\u001b[0m eta \u001b[36m-:--:--\u001b[0m\r\u001b[2K   \u001b[91m━━━━━━━━━━━━━\u001b[0m\u001b[90m╺\u001b[0m\u001b[90m━━━━━━━━━━━━━━━━━━━━━━━━━━\u001b[0m \u001b[32m2.6/7.9 MB\u001b[0m \u001b[31m82.8 MB/s\u001b[0m eta \u001b[36m0:00:01\u001b[0m\r\u001b[2K   \u001b[91m━━━━━━━━━━━━━━━━━━━━━━━━━━━\u001b[0m\u001b[91m╸\u001b[0m\u001b[90m━━━━━━━━━━━━\u001b[0m \u001b[32m5.5/7.9 MB\u001b[0m \u001b[31m75.0 MB/s\u001b[0m eta \u001b[36m0:00:01\u001b[0m\r\u001b[2K   \u001b[91m━━━━━━━━━━━━━━━━━━━━━━━━━━━━━━━━━━━━━━━\u001b[0m\u001b[91m╸\u001b[0m \u001b[32m7.9/7.9 MB\u001b[0m \u001b[31m81.4 MB/s\u001b[0m eta \u001b[36m0:00:01\u001b[0m\r\u001b[2K   \u001b[90m━━━━━━━━━━━━━━━━━━━━━━━━━━━━━━━━━━━━━━━━\u001b[0m \u001b[32m7.9/7.9 MB\u001b[0m \u001b[31m57.1 MB/s\u001b[0m eta \u001b[36m0:00:00\u001b[0m\n",
            "\u001b[2K   \u001b[90m━━━━━━━━━━━━━━━━━━━━━━━━━━━━━━━━━━━━━━━━\u001b[0m \u001b[32m101.7/101.7 kB\u001b[0m \u001b[31m8.1 MB/s\u001b[0m eta \u001b[36m0:00:00\u001b[0m\n",
            "\u001b[2K   \u001b[90m━━━━━━━━━━━━━━━━━━━━━━━━━━━━━━━━━━━━━━━━\u001b[0m \u001b[32m228.0/228.0 kB\u001b[0m \u001b[31m13.9 MB/s\u001b[0m eta \u001b[36m0:00:00\u001b[0m\n",
            "\u001b[?25h"
          ]
        },
        {
          "output_type": "display_data",
          "data": {
            "text/plain": [
              "<IPython.core.display.Javascript object>"
            ],
            "application/javascript": [
              "(async (port, path, width, height, cache, element) => {\n",
              "    if (!google.colab.kernel.accessAllowed && !cache) {\n",
              "      return;\n",
              "    }\n",
              "    element.appendChild(document.createTextNode(''));\n",
              "    const url = await google.colab.kernel.proxyPort(port, {cache});\n",
              "    const iframe = document.createElement('iframe');\n",
              "    iframe.src = new URL(path, url).toString();\n",
              "    iframe.height = height;\n",
              "    iframe.width = width;\n",
              "    iframe.style.border = 0;\n",
              "    iframe.allow = [\n",
              "        'accelerometer',\n",
              "        'autoplay',\n",
              "        'camera',\n",
              "        'clipboard-read',\n",
              "        'clipboard-write',\n",
              "        'gyroscope',\n",
              "        'magnetometer',\n",
              "        'microphone',\n",
              "        'serial',\n",
              "        'usb',\n",
              "        'xr-spatial-tracking',\n",
              "    ].join('; ');\n",
              "    element.appendChild(iframe);\n",
              "  })(8050, \"/\", \"100%\", 650, false, window.element)"
            ]
          },
          "metadata": {}
        }
      ],
      "source": [
        "# 🧩 Install required packages\n",
        "!pip install -q dash pandas plotly\n",
        "\n",
        "# 📦 Import libraries\n",
        "import dash\n",
        "from dash import dcc, html, Input, Output\n",
        "import plotly.express as px\n",
        "import pandas as pd\n",
        "from sklearn.datasets import load_iris\n",
        "\n",
        "# 📊 Load dataset\n",
        "iris = load_iris()\n",
        "df = pd.DataFrame(iris.data, columns=iris.feature_names)\n",
        "df[\"species\"] = pd.Categorical.from_codes(iris.target, iris.target_names)\n",
        "\n",
        "# 🚀 Initialize Dash app\n",
        "app = dash.Dash(__name__)\n",
        "\n",
        "# 🎨 Layout\n",
        "app.layout = html.Div([\n",
        "    html.H1(\"🌸 Iris Dataset Dashboard\", style={'textAlign': 'center'}),\n",
        "\n",
        "    html.Div([\n",
        "        html.Label(\"Select X-axis:\"),\n",
        "        dcc.Dropdown(\n",
        "            id='x-axis',\n",
        "            options=[{'label': col, 'value': col} for col in df.columns[:-1]],\n",
        "            value='sepal length (cm)'\n",
        "        ),\n",
        "        html.Label(\"Select Y-axis:\"),\n",
        "        dcc.Dropdown(\n",
        "            id='y-axis',\n",
        "            options=[{'label': col, 'value': col} for col in df.columns[:-1]],\n",
        "            value='sepal width (cm)'\n",
        "        ),\n",
        "    ], style={'width': '48%', 'display': 'inline-block', 'padding': '10px'}),\n",
        "\n",
        "    dcc.Graph(id='scatter-plot'),\n",
        "\n",
        "    html.Div(id='insight-box', style={'margin': '20px', 'fontSize': 16})\n",
        "])\n",
        "\n",
        "# 📈 Callback to update plot and insights\n",
        "@app.callback(\n",
        "    Output('scatter-plot', 'figure'),\n",
        "    Output('insight-box', 'children'),\n",
        "    Input('x-axis', 'value'),\n",
        "    Input('y-axis', 'value')\n",
        ")\n",
        "def update_graph(x_col, y_col):\n",
        "    fig = px.scatter(df, x=x_col, y=y_col, color=\"species\", title=f\"{x_col} vs {y_col}\")\n",
        "    insight = f\"Mean {y_col} by species: \" + \", \".join(\n",
        "        f\"{sp}: {df[df['species'] == sp][y_col].mean():.2f}\" for sp in df['species'].unique()\n",
        "    )\n",
        "    return fig, insight\n",
        "\n",
        "# 🏁 Run app (use app.run_server(debug=True) if local)\n",
        "app.run(jupyter_mode='inline')  # For Google Colab or Jupyter Notebook\n",
        " # For Google Colab or Jupyter users\n"
      ]
    }
  ]
}